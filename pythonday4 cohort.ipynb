{
 "cells": [
  {
   "cell_type": "code",
   "execution_count": 2,
   "id": "0dc95702-de3b-47b0-9e3d-a04ed8447cc8",
   "metadata": {},
   "outputs": [
    {
     "name": "stdout",
     "output_type": "stream",
     "text": [
      "[1, 2, 3, 4, 5, 6, 7, 8, 9]\n"
     ]
    }
   ],
   "source": [
    "def flatten_list(nested_list):\n",
    "    flat_list = []\n",
    "    for item in nested_list:\n",
    "        if isinstance(item, list):\n",
    "            flat_list.extend(flatten_list(item))  # Recursively flatten sublists\n",
    "        else:\n",
    "            flat_list.append(item)\n",
    "    return flat_list\n",
    "\n",
    "# Your original list\n",
    "nested_list = [1, [2, [3, 4, 5, 6], [7], [8, [9]]]]\n",
    "\n",
    "# Convert it to 1D\n",
    "flattened = flatten_list(nested_list)\n",
    "print(flattened)\n"
   ]
  },
  {
   "cell_type": "code",
   "execution_count": 4,
   "id": "b6f17258-8c69-4305-8104-cf7c87d14875",
   "metadata": {},
   "outputs": [
    {
     "name": "stdout",
     "output_type": "stream",
     "text": [
      "[1, [3, 6], [7], [8, [9]]]\n"
     ]
    }
   ],
   "source": [
    "def create_nested_list():\n",
    "    return [1, [3, 6], [7], [8, [9]]]\n",
    "\n",
    "# Call the function\n",
    "nested_list = create_nested_list()\n",
    "\n",
    "# Output the result\n",
    "print(nested_list)\n"
   ]
  },
  {
   "cell_type": "code",
   "execution_count": 6,
   "id": "ee4968f6-99ce-49c7-bef0-28146ff0575a",
   "metadata": {},
   "outputs": [
    {
     "name": "stdout",
     "output_type": "stream",
     "text": [
      "[[8, [9]], [7], [3, 6], 1]\n"
     ]
    }
   ],
   "source": [
    "lst = [1, [3, 6], [7], [8, [9]]]\n",
    " \n",
    "reversed_lst = lst[::-1]\n",
    " \n",
    "print(reversed_lst)"
   ]
  },
  {
   "cell_type": "code",
   "execution_count": 7,
   "id": "c56af366-497e-4651-bf6c-f469f6fe496a",
   "metadata": {},
   "outputs": [
    {
     "ename": "TypeError",
     "evalue": "'int' object is not subscriptable",
     "output_type": "error",
     "traceback": [
      "\u001b[1;31m---------------------------------------------------------------------------\u001b[0m",
      "\u001b[1;31mTypeError\u001b[0m                                 Traceback (most recent call last)",
      "Cell \u001b[1;32mIn[7], line 8\u001b[0m\n\u001b[0;32m      6\u001b[0m reversed_lst[\u001b[38;5;241m1\u001b[39m] \u001b[38;5;241m=\u001b[39m reversed_lst[\u001b[38;5;241m1\u001b[39m][::\u001b[38;5;241m-\u001b[39m\u001b[38;5;241m1\u001b[39m] \n\u001b[0;32m      7\u001b[0m reversed_lst[\u001b[38;5;241m2\u001b[39m] \u001b[38;5;241m=\u001b[39m reversed_lst[\u001b[38;5;241m2\u001b[39m][::\u001b[38;5;241m-\u001b[39m\u001b[38;5;241m1\u001b[39m]  \n\u001b[1;32m----> 8\u001b[0m reversed_lst[\u001b[38;5;241m3\u001b[39m] \u001b[38;5;241m=\u001b[39m reversed_lst[\u001b[38;5;241m3\u001b[39m][::\u001b[38;5;241m-\u001b[39m\u001b[38;5;241m1\u001b[39m] \n\u001b[0;32m      9\u001b[0m reversed_lst[\u001b[38;5;241m3\u001b[39m][\u001b[38;5;241m1\u001b[39m] \u001b[38;5;241m=\u001b[39m reversed_lst[\u001b[38;5;241m3\u001b[39m][\u001b[38;5;241m1\u001b[39m][::\u001b[38;5;241m-\u001b[39m\u001b[38;5;241m1\u001b[39m]  \n\u001b[0;32m     11\u001b[0m \u001b[38;5;28mprint\u001b[39m(reversed_lst)\n",
      "\u001b[1;31mTypeError\u001b[0m: 'int' object is not subscriptable"
     ]
    }
   ],
   "source": [
    "lst = [1, [3, 6], [7], [8, [9]]]\n",
    " \n",
    "reversed_lst = lst[::-1]\n",
    " \n",
    " \n",
    "reversed_lst[1] = reversed_lst[1][::-1] \n",
    "reversed_lst[2] = reversed_lst[2][::-1]  \n",
    "reversed_lst[3] = reversed_lst[3][::-1] \n",
    "reversed_lst[3][1] = reversed_lst[3][1][::-1]  \n",
    " \n",
    "print(reversed_lst)"
   ]
  },
  {
   "cell_type": "code",
   "execution_count": 1,
   "id": "ebb5a530-be73-4164-b910-fb4067b05eca",
   "metadata": {},
   "outputs": [
    {
     "name": "stdout",
     "output_type": "stream",
     "text": [
      "Output: [1, 4, 3, 7, 9]\n"
     ]
    }
   ],
   "source": [
    "list = [1, [2, [3, 4, 5, 6], [7], [8, [9]]]]\n",
    "\n",
    "newlist = [\n",
    "    list[0],                               # 1\n",
    "    list[1][1][1],                         # 4 (from [3, 4, 5, 6])\n",
    "    list[1][1][0],                         # 3 (from [3, 4, 5, 6])\n",
    "    list[1][2][0],                         # 7 (from [7])\n",
    "    list[1][3][1][0]                       # 9 (from [8, [9]])\n",
    "]\n",
    "\n",
    "print(\"Output:\", newlist)\n"
   ]
  },
  {
   "cell_type": "code",
   "execution_count": 3,
   "id": "e65d6a54-7f5b-48fb-9268-9f8180c4669b",
   "metadata": {},
   "outputs": [
    {
     "name": "stdout",
     "output_type": "stream",
     "text": [
      "Output: [1, 4, 3, 7, 9]\n"
     ]
    }
   ],
   "source": [
    "list = [1, [2, [3, 4, 5, 6], [7], [8, [9]]]]\n",
    "\n",
    "newlist = [\n",
    "    list[0],                               \n",
    "    list[1][1][1],                         \n",
    "    list[1][1][0],                         \n",
    "    list[1][2][0],                       \n",
    "    list[1][3][1][0]                      \n",
    "]\n",
    "\n",
    "print(\"Output:\", newlist)\n"
   ]
  },
  {
   "cell_type": "code",
   "execution_count": 7,
   "id": "99135da5-ac14-45d2-bfed-86fb1f8cc6a3",
   "metadata": {},
   "outputs": [
    {
     "name": "stdout",
     "output_type": "stream",
     "text": [
      "Names: ['Alice', 'Bob', 'Charlie', 'David', 'Eva']\n",
      "Average Grades: [84.33, 72.67, 91.67, 68.33, 95.0]\n",
      "Attendance Status: ['Good', 'Poor', 'Good', 'Poor', 'Good']\n",
      "Student Info: [{'Name': 'Alice', 'Average Grade': 84.33, 'Attendance Status': 'Good'}, {'Name': 'Bob', 'Average Grade': 72.67, 'Attendance Status': 'Poor'}, {'Name': 'Charlie', 'Average Grade': 91.67, 'Attendance Status': 'Good'}, {'Name': 'David', 'Average Grade': 68.33, 'Attendance Status': 'Poor'}, {'Name': 'Eva', 'Average Grade': 95.0, 'Attendance Status': 'Good'}]\n",
      "Top Students: ['Alice', 'Charlie', 'Eva']\n"
     ]
    }
   ],
   "source": [
    "students = [\n",
    "    [\"Alice\", [85, 90, 78], 15], \n",
    "    [\"Bob\", [70, 80, 68], 10],\n",
    "    [\"Charlie\", [95, 92, 88], 20],\n",
    "    [\"David\", [60, 75, 70], 5],\n",
    "    [\"Eva\", [100, 90, 95], 18]\n",
    "]\n",
    "\n",
    "\n",
    "names = [student[0] for student in students]\n",
    "print(\"Names:\", names)\n",
    "\n",
    "\n",
    "average_grades = [round(sum(student[1]) / len(student[1]), 2) for student in students]\n",
    "print(\"Average Grades:\", average_grades)\n",
    "\n",
    "\n",
    "attendance_status = [\"Good\" if student[2] >= 15 else \"Poor\" for student in students]\n",
    "print(\"Attendance Status:\", attendance_status)\n",
    "\n",
    "\n",
    "students_info = [\n",
    "    {\"Name\": student[0], \"Average Grade\": round(sum(student[1]) / len(student[1]), 2), \"Attendance Status\": \"Good\" if student[2] >= 15 else \"Poor\"}\n",
    "    for student in students\n",
    "]\n",
    "print(\"Student Info:\", students_info)\n",
    "\n",
    "\n",
    "top_students = [student[0] for student in students if round(sum(student[1]) / len(student[1]), 2) >= 80]\n",
    "print(\"Top Students:\", top_students)\n"
   ]
  },
  {
   "cell_type": "code",
   "execution_count": null,
   "id": "a8b5a5dc-ba18-406c-8885-8772287a2e2b",
   "metadata": {},
   "outputs": [],
   "source": []
  }
 ],
 "metadata": {
  "kernelspec": {
   "display_name": "Python 3 (ipykernel)",
   "language": "python",
   "name": "python3"
  },
  "language_info": {
   "codemirror_mode": {
    "name": "ipython",
    "version": 3
   },
   "file_extension": ".py",
   "mimetype": "text/x-python",
   "name": "python",
   "nbconvert_exporter": "python",
   "pygments_lexer": "ipython3",
   "version": "3.12.4"
  }
 },
 "nbformat": 4,
 "nbformat_minor": 5
}
