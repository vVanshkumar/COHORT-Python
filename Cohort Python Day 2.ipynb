{
 "cells": [
  {
   "cell_type": "code",
   "execution_count": 1,
   "id": "b0f4bf22",
   "metadata": {},
   "outputs": [],
   "source": [
    "x = \"Vansh\""
   ]
  },
  {
   "cell_type": "code",
   "execution_count": 2,
   "id": "82e4677b",
   "metadata": {},
   "outputs": [],
   "source": [
    "y = \"Kumar\""
   ]
  },
  {
   "cell_type": "code",
   "execution_count": 3,
   "id": "15745a61",
   "metadata": {},
   "outputs": [
    {
     "data": {
      "text/plain": [
       "'Vansh'"
      ]
     },
     "execution_count": 3,
     "metadata": {},
     "output_type": "execute_result"
    }
   ],
   "source": [
    "x"
   ]
  },
  {
   "cell_type": "code",
   "execution_count": 4,
   "id": "5ada2df5",
   "metadata": {},
   "outputs": [
    {
     "data": {
      "text/plain": [
       "'Kumar'"
      ]
     },
     "execution_count": 4,
     "metadata": {},
     "output_type": "execute_result"
    }
   ],
   "source": [
    "y"
   ]
  },
  {
   "cell_type": "code",
   "execution_count": 5,
   "id": "1b5814eb",
   "metadata": {},
   "outputs": [],
   "source": [
    "z=x+y"
   ]
  },
  {
   "cell_type": "code",
   "execution_count": 6,
   "id": "82ada378",
   "metadata": {},
   "outputs": [
    {
     "data": {
      "text/plain": [
       "'VanshKumar'"
      ]
     },
     "execution_count": 6,
     "metadata": {},
     "output_type": "execute_result"
    }
   ],
   "source": [
    "z"
   ]
  },
  {
   "cell_type": "code",
   "execution_count": 7,
   "id": "6c20041a",
   "metadata": {},
   "outputs": [],
   "source": [
    "ab = 123"
   ]
  },
  {
   "cell_type": "code",
   "execution_count": 8,
   "id": "0e0f76aa",
   "metadata": {},
   "outputs": [
    {
     "ename": "TypeError",
     "evalue": "can only concatenate str (not \"int\") to str",
     "output_type": "error",
     "traceback": [
      "\u001b[1;31m---------------------------------------------------------------------------\u001b[0m",
      "\u001b[1;31mTypeError\u001b[0m                                 Traceback (most recent call last)",
      "Cell \u001b[1;32mIn[8], line 1\u001b[0m\n\u001b[1;32m----> 1\u001b[0m x\u001b[38;5;241m+\u001b[39mab\n",
      "\u001b[1;31mTypeError\u001b[0m: can only concatenate str (not \"int\") to str"
     ]
    }
   ],
   "source": [
    "x+ab"
   ]
  },
  {
   "cell_type": "code",
   "execution_count": null,
   "id": "66701647",
   "metadata": {},
   "outputs": [],
   "source": [
    "ab = \"123\""
   ]
  },
  {
   "cell_type": "code",
   "execution_count": null,
   "id": "cbb6e742",
   "metadata": {},
   "outputs": [],
   "source": [
    "x+ab"
   ]
  },
  {
   "cell_type": "code",
   "execution_count": 9,
   "id": "9031ea8e",
   "metadata": {},
   "outputs": [],
   "source": [
    "a1 = \"12345\"\n",
    "a2 = \"00009\""
   ]
  },
  {
   "cell_type": "code",
   "execution_count": 10,
   "id": "587c0fe9",
   "metadata": {},
   "outputs": [],
   "source": [
    "result = a1+a2"
   ]
  },
  {
   "cell_type": "code",
   "execution_count": 11,
   "id": "82673aa6",
   "metadata": {},
   "outputs": [],
   "source": [
    "#result????"
   ]
  },
  {
   "cell_type": "code",
   "execution_count": 12,
   "id": "9dc16077",
   "metadata": {},
   "outputs": [
    {
     "data": {
      "text/plain": [
       "'1234500009'"
      ]
     },
     "execution_count": 12,
     "metadata": {},
     "output_type": "execute_result"
    }
   ],
   "source": [
    "result"
   ]
  },
  {
   "cell_type": "code",
   "execution_count": 13,
   "id": "c400d514",
   "metadata": {},
   "outputs": [
    {
     "data": {
      "text/plain": [
       "str"
      ]
     },
     "execution_count": 13,
     "metadata": {},
     "output_type": "execute_result"
    }
   ],
   "source": [
    "type(result)"
   ]
  },
  {
   "cell_type": "code",
   "execution_count": 14,
   "id": "d329b426",
   "metadata": {},
   "outputs": [
    {
     "data": {
      "text/plain": [
       "int"
      ]
     },
     "execution_count": 14,
     "metadata": {},
     "output_type": "execute_result"
    }
   ],
   "source": [
    "type(ab)"
   ]
  },
  {
   "cell_type": "code",
   "execution_count": 15,
   "id": "df81097d",
   "metadata": {},
   "outputs": [],
   "source": [
    "#array???"
   ]
  },
  {
   "cell_type": "code",
   "execution_count": 16,
   "id": "82cd4722",
   "metadata": {},
   "outputs": [],
   "source": [
    "ab = [12,23,24,56]"
   ]
  },
  {
   "cell_type": "code",
   "execution_count": 17,
   "id": "337481fb",
   "metadata": {},
   "outputs": [
    {
     "data": {
      "text/plain": [
       "list"
      ]
     },
     "execution_count": 17,
     "metadata": {},
     "output_type": "execute_result"
    }
   ],
   "source": [
    "type(ab)"
   ]
  },
  {
   "cell_type": "code",
   "execution_count": 18,
   "id": "6c881154",
   "metadata": {},
   "outputs": [],
   "source": [
    "ab=([1,2,3,4])"
   ]
  },
  {
   "cell_type": "code",
   "execution_count": 19,
   "id": "26a2522f",
   "metadata": {},
   "outputs": [
    {
     "data": {
      "text/plain": [
       "list"
      ]
     },
     "execution_count": 19,
     "metadata": {},
     "output_type": "execute_result"
    }
   ],
   "source": [
    "type(ab)"
   ]
  },
  {
   "cell_type": "code",
   "execution_count": 20,
   "id": "46a6650a",
   "metadata": {},
   "outputs": [],
   "source": [
    "zx=[\"assadnjsia\"]"
   ]
  },
  {
   "cell_type": "code",
   "execution_count": 21,
   "id": "5f7fc7b2",
   "metadata": {},
   "outputs": [
    {
     "data": {
      "text/plain": [
       "list"
      ]
     },
     "execution_count": 21,
     "metadata": {},
     "output_type": "execute_result"
    }
   ],
   "source": [
    "type(zx)"
   ]
  },
  {
   "cell_type": "code",
   "execution_count": 22,
   "id": "538918e7",
   "metadata": {},
   "outputs": [],
   "source": [
    "contacts = [121323,13213,1234134,3443141,341414134,3141414]"
   ]
  },
  {
   "cell_type": "code",
   "execution_count": 23,
   "id": "ea37205a",
   "metadata": {},
   "outputs": [
    {
     "data": {
      "text/plain": [
       "list"
      ]
     },
     "execution_count": 23,
     "metadata": {},
     "output_type": "execute_result"
    }
   ],
   "source": [
    "type(contacts)"
   ]
  },
  {
   "cell_type": "code",
   "execution_count": 24,
   "id": "6d33f350",
   "metadata": {},
   "outputs": [],
   "source": [
    "list1=[12345,231321,\"dhsfsgi\",\"ewqrwr\"]"
   ]
  },
  {
   "cell_type": "code",
   "execution_count": 25,
   "id": "d0251108",
   "metadata": {},
   "outputs": [
    {
     "data": {
      "text/plain": [
       "[12345, 231321, 'dhsfsgi', 'ewqrwr']"
      ]
     },
     "execution_count": 25,
     "metadata": {},
     "output_type": "execute_result"
    }
   ],
   "source": [
    "list1"
   ]
  },
  {
   "cell_type": "code",
   "execution_count": 26,
   "id": "60e5f0e3",
   "metadata": {},
   "outputs": [
    {
     "data": {
      "text/plain": [
       "list"
      ]
     },
     "execution_count": 26,
     "metadata": {},
     "output_type": "execute_result"
    }
   ],
   "source": [
    "type(list1)"
   ]
  },
  {
   "cell_type": "code",
   "execution_count": 27,
   "id": "908eb4a7",
   "metadata": {},
   "outputs": [
    {
     "data": {
      "text/plain": [
       "4"
      ]
     },
     "execution_count": 27,
     "metadata": {},
     "output_type": "execute_result"
    }
   ],
   "source": [
    "len(list1)"
   ]
  },
  {
   "cell_type": "code",
   "execution_count": 28,
   "id": "f9127b85",
   "metadata": {},
   "outputs": [
    {
     "name": "stdout",
     "output_type": "stream",
     "text": [
      "[12345, 231321, 'dhsfsgi', 'ewqrwr']\n"
     ]
    }
   ],
   "source": [
    "print(list1)"
   ]
  },
  {
   "cell_type": "code",
   "execution_count": 29,
   "id": "8bc9ea62",
   "metadata": {},
   "outputs": [],
   "source": [
    "listnew=[121323,13213,1234134,3443141,341414134,3141414,121323,13213,1234134,3443141,341414134,3141414,121323,13213,1234134,3443141,341414134,3141414,121323,13213,1234134,3443141,341414134,3141414,121323,13213,1234134,3443141,341414134,3141414,121323,13213,1234134,3443141,341414134,3141414,121323,13213,1234134,3443141,341414134,3141414,121323,13213,1234134,3443141,341414134,3141414,121323,13213,1234134,3443141,341414134,3141414,121323,13213,1234134,3443141,341414134,3141414,121323,13213,1234134,3443141,341414134,3141414,121323,13213,1234134,3443141,341414134,3141414,121323,13213,1234134,3443141,341414134,3141414,121323,13213,1234134,3443141,341414134,3141414,121323,13213,1234134,3443141,341414134,3141414,121323,13213,1234134,3443141,341414134,3141414,121323,13213,1234134,3443141,341414134,3141414,121323,13213,1234134,3443141,341414134,3141414,121323,13213,1234134,3443141,341414134,3141414,121323,13213,1234134,3443141,341414134,3141414,121323,13213,1234134,3443141,341414134,3141414,121323,13213,1234134,3443141,341414134,3141414,121323,13213,1234134,3443141,341414134,3141414,121323,13213,1234134,3443141,341414134,3141414]"
   ]
  },
  {
   "cell_type": "code",
   "execution_count": 30,
   "id": "1e22be6e",
   "metadata": {},
   "outputs": [
    {
     "data": {
      "text/plain": [
       "[121323,\n",
       " 13213,\n",
       " 1234134,\n",
       " 3443141,\n",
       " 341414134,\n",
       " 3141414,\n",
       " 121323,\n",
       " 13213,\n",
       " 1234134,\n",
       " 3443141,\n",
       " 341414134,\n",
       " 3141414,\n",
       " 121323,\n",
       " 13213,\n",
       " 1234134,\n",
       " 3443141,\n",
       " 341414134,\n",
       " 3141414,\n",
       " 121323,\n",
       " 13213,\n",
       " 1234134,\n",
       " 3443141,\n",
       " 341414134,\n",
       " 3141414,\n",
       " 121323,\n",
       " 13213,\n",
       " 1234134,\n",
       " 3443141,\n",
       " 341414134,\n",
       " 3141414,\n",
       " 121323,\n",
       " 13213,\n",
       " 1234134,\n",
       " 3443141,\n",
       " 341414134,\n",
       " 3141414,\n",
       " 121323,\n",
       " 13213,\n",
       " 1234134,\n",
       " 3443141,\n",
       " 341414134,\n",
       " 3141414,\n",
       " 121323,\n",
       " 13213,\n",
       " 1234134,\n",
       " 3443141,\n",
       " 341414134,\n",
       " 3141414,\n",
       " 121323,\n",
       " 13213,\n",
       " 1234134,\n",
       " 3443141,\n",
       " 341414134,\n",
       " 3141414,\n",
       " 121323,\n",
       " 13213,\n",
       " 1234134,\n",
       " 3443141,\n",
       " 341414134,\n",
       " 3141414,\n",
       " 121323,\n",
       " 13213,\n",
       " 1234134,\n",
       " 3443141,\n",
       " 341414134,\n",
       " 3141414,\n",
       " 121323,\n",
       " 13213,\n",
       " 1234134,\n",
       " 3443141,\n",
       " 341414134,\n",
       " 3141414,\n",
       " 121323,\n",
       " 13213,\n",
       " 1234134,\n",
       " 3443141,\n",
       " 341414134,\n",
       " 3141414,\n",
       " 121323,\n",
       " 13213,\n",
       " 1234134,\n",
       " 3443141,\n",
       " 341414134,\n",
       " 3141414,\n",
       " 121323,\n",
       " 13213,\n",
       " 1234134,\n",
       " 3443141,\n",
       " 341414134,\n",
       " 3141414,\n",
       " 121323,\n",
       " 13213,\n",
       " 1234134,\n",
       " 3443141,\n",
       " 341414134,\n",
       " 3141414,\n",
       " 121323,\n",
       " 13213,\n",
       " 1234134,\n",
       " 3443141,\n",
       " 341414134,\n",
       " 3141414,\n",
       " 121323,\n",
       " 13213,\n",
       " 1234134,\n",
       " 3443141,\n",
       " 341414134,\n",
       " 3141414,\n",
       " 121323,\n",
       " 13213,\n",
       " 1234134,\n",
       " 3443141,\n",
       " 341414134,\n",
       " 3141414,\n",
       " 121323,\n",
       " 13213,\n",
       " 1234134,\n",
       " 3443141,\n",
       " 341414134,\n",
       " 3141414,\n",
       " 121323,\n",
       " 13213,\n",
       " 1234134,\n",
       " 3443141,\n",
       " 341414134,\n",
       " 3141414,\n",
       " 121323,\n",
       " 13213,\n",
       " 1234134,\n",
       " 3443141,\n",
       " 341414134,\n",
       " 3141414,\n",
       " 121323,\n",
       " 13213,\n",
       " 1234134,\n",
       " 3443141,\n",
       " 341414134,\n",
       " 3141414,\n",
       " 121323,\n",
       " 13213,\n",
       " 1234134,\n",
       " 3443141,\n",
       " 341414134,\n",
       " 3141414]"
      ]
     },
     "execution_count": 30,
     "metadata": {},
     "output_type": "execute_result"
    }
   ],
   "source": [
    "listnew"
   ]
  },
  {
   "cell_type": "code",
   "execution_count": 31,
   "id": "7aa8b840",
   "metadata": {},
   "outputs": [
    {
     "data": {
      "text/plain": [
       "144"
      ]
     },
     "execution_count": 31,
     "metadata": {},
     "output_type": "execute_result"
    }
   ],
   "source": [
    "len(listnew)"
   ]
  },
  {
   "cell_type": "code",
   "execution_count": 32,
   "id": "45368389",
   "metadata": {},
   "outputs": [
    {
     "data": {
      "text/plain": [
       "list"
      ]
     },
     "execution_count": 32,
     "metadata": {},
     "output_type": "execute_result"
    }
   ],
   "source": [
    "type(listnew)"
   ]
  },
  {
   "cell_type": "code",
   "execution_count": 33,
   "id": "9ff01ca4",
   "metadata": {},
   "outputs": [
    {
     "data": {
      "text/plain": [
       "list"
      ]
     },
     "execution_count": 33,
     "metadata": {},
     "output_type": "execute_result"
    }
   ],
   "source": [
    "type(listnew)"
   ]
  },
  {
   "cell_type": "code",
   "execution_count": 34,
   "id": "ad0c6655",
   "metadata": {},
   "outputs": [
    {
     "data": {
      "text/plain": [
       "144"
      ]
     },
     "execution_count": 34,
     "metadata": {},
     "output_type": "execute_result"
    }
   ],
   "source": [
    "len(listnew)"
   ]
  },
  {
   "cell_type": "code",
   "execution_count": 35,
   "id": "badf579c",
   "metadata": {},
   "outputs": [],
   "source": [
    "list2 = [1,2,3,4,5,6]"
   ]
  },
  {
   "cell_type": "code",
   "execution_count": 36,
   "id": "7b69a9e8",
   "metadata": {},
   "outputs": [
    {
     "data": {
      "text/plain": [
       "list"
      ]
     },
     "execution_count": 36,
     "metadata": {},
     "output_type": "execute_result"
    }
   ],
   "source": [
    "type(list2)"
   ]
  },
  {
   "cell_type": "code",
   "execution_count": 37,
   "id": "a9212213",
   "metadata": {},
   "outputs": [
    {
     "data": {
      "text/plain": [
       "2"
      ]
     },
     "execution_count": 37,
     "metadata": {},
     "output_type": "execute_result"
    }
   ],
   "source": [
    "list2[1]"
   ]
  },
  {
   "cell_type": "code",
   "execution_count": 38,
   "id": "ac645d16",
   "metadata": {},
   "outputs": [
    {
     "data": {
      "text/plain": [
       "1"
      ]
     },
     "execution_count": 38,
     "metadata": {},
     "output_type": "execute_result"
    }
   ],
   "source": [
    "list2[0]"
   ]
  },
  {
   "cell_type": "code",
   "execution_count": 39,
   "id": "7cd31d6c",
   "metadata": {},
   "outputs": [
    {
     "data": {
      "text/plain": [
       "6"
      ]
     },
     "execution_count": 39,
     "metadata": {},
     "output_type": "execute_result"
    }
   ],
   "source": [
    "list2[5]"
   ]
  },
  {
   "cell_type": "code",
   "execution_count": 40,
   "id": "841d1fd2",
   "metadata": {},
   "outputs": [
    {
     "ename": "IndexError",
     "evalue": "list index out of range",
     "output_type": "error",
     "traceback": [
      "\u001b[1;31m---------------------------------------------------------------------------\u001b[0m",
      "\u001b[1;31mIndexError\u001b[0m                                Traceback (most recent call last)",
      "Cell \u001b[1;32mIn[40], line 1\u001b[0m\n\u001b[1;32m----> 1\u001b[0m list2[\u001b[38;5;241m6\u001b[39m]\n",
      "\u001b[1;31mIndexError\u001b[0m: list index out of range"
     ]
    }
   ],
   "source": [
    "list2[6]"
   ]
  },
  {
   "cell_type": "code",
   "execution_count": 41,
   "id": "56dd48f6",
   "metadata": {},
   "outputs": [],
   "source": [
    "list2.remove(3)"
   ]
  },
  {
   "cell_type": "code",
   "execution_count": 42,
   "id": "ac45b981",
   "metadata": {},
   "outputs": [
    {
     "data": {
      "text/plain": [
       "[1, 2, 4, 5, 6]"
      ]
     },
     "execution_count": 42,
     "metadata": {},
     "output_type": "execute_result"
    }
   ],
   "source": [
    "list2"
   ]
  },
  {
   "cell_type": "code",
   "execution_count": 43,
   "id": "9c99afd6",
   "metadata": {},
   "outputs": [],
   "source": [
    "list3 = [1,1,2,2,3,3,4,4,5,5,6,6]"
   ]
  },
  {
   "cell_type": "code",
   "execution_count": 44,
   "id": "67eb3a06",
   "metadata": {},
   "outputs": [
    {
     "data": {
      "text/plain": [
       "[1, 1, 2, 2, 3, 3, 4, 4, 5, 5, 6, 6]"
      ]
     },
     "execution_count": 44,
     "metadata": {},
     "output_type": "execute_result"
    }
   ],
   "source": [
    "list3"
   ]
  },
  {
   "cell_type": "code",
   "execution_count": 45,
   "id": "a94b47b3",
   "metadata": {},
   "outputs": [],
   "source": [
    "list3.remove(4)"
   ]
  },
  {
   "cell_type": "code",
   "execution_count": 46,
   "id": "b23ffe45",
   "metadata": {},
   "outputs": [
    {
     "data": {
      "text/plain": [
       "[1, 1, 2, 2, 3, 3, 4, 5, 5, 6, 6]"
      ]
     },
     "execution_count": 46,
     "metadata": {},
     "output_type": "execute_result"
    }
   ],
   "source": [
    "list3"
   ]
  }
 ],
 "metadata": {
  "kernelspec": {
   "display_name": "Python 3 (ipykernel)",
   "language": "python",
   "name": "python3"
  },
  "language_info": {
   "codemirror_mode": {
    "name": "ipython",
    "version": 3
   },
   "file_extension": ".py",
   "mimetype": "text/x-python",
   "name": "python",
   "nbconvert_exporter": "python",
   "pygments_lexer": "ipython3",
   "version": "3.12.4"
  }
 },
 "nbformat": 4,
 "nbformat_minor": 5
}
