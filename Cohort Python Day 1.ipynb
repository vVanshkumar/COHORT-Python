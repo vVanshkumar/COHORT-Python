{
 "cells": [
  {
   "cell_type": "code",
   "execution_count": 1,
   "id": "fe1bde90",
   "metadata": {},
   "outputs": [],
   "source": [
    "x = 'chhayank'"
   ]
  },
  {
   "cell_type": "code",
   "execution_count": 2,
   "id": "ea555e89",
   "metadata": {},
   "outputs": [],
   "source": [
    "ab = 75"
   ]
  },
  {
   "cell_type": "code",
   "execution_count": 3,
   "id": "8d49b907",
   "metadata": {},
   "outputs": [
    {
     "data": {
      "text/plain": [
       "'chhayank'"
      ]
     },
     "execution_count": 3,
     "metadata": {},
     "output_type": "execute_result"
    }
   ],
   "source": [
    "x"
   ]
  },
  {
   "cell_type": "code",
   "execution_count": 4,
   "id": "14a84e66",
   "metadata": {},
   "outputs": [],
   "source": [
    "x = \"Chhayank\""
   ]
  },
  {
   "cell_type": "code",
   "execution_count": 5,
   "id": "03767266",
   "metadata": {},
   "outputs": [
    {
     "name": "stdout",
     "output_type": "stream",
     "text": [
      "\u001b[31mERROR: Could not find a version that satisfies the requirement random (from versions: none)\u001b[0m\u001b[31m\n",
      "\u001b[0m\u001b[31mERROR: No matching distribution found for random\u001b[0m\u001b[31m\n",
      "\u001b[0mNote: you may need to restart the kernel to use updated packages.\n"
     ]
    }
   ],
   "source": [
    "pip install random"
   ]
  },
  {
   "cell_type": "code",
   "execution_count": 6,
   "id": "ad82dac0",
   "metadata": {},
   "outputs": [
    {
     "name": "stdout",
     "output_type": "stream",
     "text": [
      "\u001b[31mERROR: Could not find a version that satisfies the requirement os (from versions: none)\u001b[0m\u001b[31m\n",
      "\u001b[0m\u001b[31mERROR: No matching distribution found for os\u001b[0m\u001b[31m\n",
      "\u001b[0mNote: you may need to restart the kernel to use updated packages.\n"
     ]
    }
   ],
   "source": [
    "pip install os"
   ]
  },
  {
   "cell_type": "code",
   "execution_count": 7,
   "id": "c7017a96",
   "metadata": {},
   "outputs": [],
   "source": [
    "import os"
   ]
  },
  {
   "cell_type": "code",
   "execution_count": 8,
   "id": "36e793f3",
   "metadata": {},
   "outputs": [
    {
     "name": "stdout",
     "output_type": "stream",
     "text": [
      "abcd\n"
     ]
    }
   ],
   "source": [
    "print (\"abcd\")"
   ]
  },
  {
   "cell_type": "code",
   "execution_count": 9,
   "id": "fd45ffbb",
   "metadata": {},
   "outputs": [
    {
     "name": "stdout",
     "output_type": "stream",
     "text": [
      "Chhayank\n"
     ]
    }
   ],
   "source": [
    "print (x)"
   ]
  },
  {
   "cell_type": "code",
   "execution_count": 10,
   "id": "6093fc16",
   "metadata": {},
   "outputs": [
    {
     "name": "stdout",
     "output_type": "stream",
     "text": [
      "name: Chhayank\n"
     ]
    }
   ],
   "source": [
    "print (\"name:\", x)"
   ]
  },
  {
   "cell_type": "code",
   "execution_count": 11,
   "id": "e8db3d48",
   "metadata": {},
   "outputs": [],
   "source": [
    "number1 = 24"
   ]
  },
  {
   "cell_type": "code",
   "execution_count": 12,
   "id": "6fbaf6e6",
   "metadata": {},
   "outputs": [],
   "source": [
    "number2 = 444"
   ]
  },
  {
   "cell_type": "code",
   "execution_count": 13,
   "id": "92e701ed",
   "metadata": {},
   "outputs": [],
   "source": [
    "result = number1 + number2"
   ]
  },
  {
   "cell_type": "code",
   "execution_count": 14,
   "id": "7398687c",
   "metadata": {},
   "outputs": [
    {
     "data": {
      "text/plain": [
       "468"
      ]
     },
     "execution_count": 14,
     "metadata": {},
     "output_type": "execute_result"
    }
   ],
   "source": [
    "result"
   ]
  },
  {
   "cell_type": "code",
   "execution_count": 15,
   "id": "144635c4",
   "metadata": {},
   "outputs": [
    {
     "name": "stdout",
     "output_type": "stream",
     "text": [
      "The sum of number1 and number2 is: 468\n"
     ]
    }
   ],
   "source": [
    "print(\"The sum of number1 and number2 is:\",result)"
   ]
  }
 ],
 "metadata": {
  "kernelspec": {
   "display_name": "Python 3 (ipykernel)",
   "language": "python",
   "name": "python3"
  },
  "language_info": {
   "codemirror_mode": {
    "name": "ipython",
    "version": 3
   },
   "file_extension": ".py",
   "mimetype": "text/x-python",
   "name": "python",
   "nbconvert_exporter": "python",
   "pygments_lexer": "ipython3",
   "version": "3.11.4"
  }
 },
 "nbformat": 4,
 "nbformat_minor": 5
}
