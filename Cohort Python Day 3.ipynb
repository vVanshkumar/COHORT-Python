{
 "cells": [
  {
   "cell_type": "code",
   "execution_count": 1,
   "id": "81f8f2f8",
   "metadata": {},
   "outputs": [],
   "source": [
    "a=5"
   ]
  },
  {
   "cell_type": "code",
   "execution_count": 2,
   "id": "2a78cd55",
   "metadata": {},
   "outputs": [
    {
     "data": {
      "text/plain": [
       "4339678680"
      ]
     },
     "execution_count": 2,
     "metadata": {},
     "output_type": "execute_result"
    }
   ],
   "source": [
    "id(a)"
   ]
  },
  {
   "cell_type": "code",
   "execution_count": 3,
   "id": "77b7b18d",
   "metadata": {},
   "outputs": [],
   "source": [
    "a=10"
   ]
  },
  {
   "cell_type": "code",
   "execution_count": 4,
   "id": "ae7f4322",
   "metadata": {},
   "outputs": [
    {
     "data": {
      "text/plain": [
       "4339678840"
      ]
     },
     "execution_count": 4,
     "metadata": {},
     "output_type": "execute_result"
    }
   ],
   "source": [
    "id(a)"
   ]
  },
  {
   "cell_type": "code",
   "execution_count": 5,
   "id": "70d2e0b8",
   "metadata": {},
   "outputs": [],
   "source": [
    "#list"
   ]
  },
  {
   "cell_type": "code",
   "execution_count": 6,
   "id": "a2cdba4c",
   "metadata": {},
   "outputs": [],
   "source": [
    "list = [1,2,3,4,5,6]"
   ]
  },
  {
   "cell_type": "code",
   "execution_count": 7,
   "id": "a7002a48",
   "metadata": {},
   "outputs": [],
   "source": [
    "list.remove(2)"
   ]
  },
  {
   "cell_type": "code",
   "execution_count": 8,
   "id": "aadf81c8",
   "metadata": {},
   "outputs": [
    {
     "data": {
      "text/plain": [
       "[1, 3, 4, 5, 6]"
      ]
     },
     "execution_count": 8,
     "metadata": {},
     "output_type": "execute_result"
    }
   ],
   "source": [
    "list"
   ]
  },
  {
   "cell_type": "code",
   "execution_count": 12,
   "id": "5414a1c8",
   "metadata": {},
   "outputs": [],
   "source": [
    "#nested list"
   ]
  },
  {
   "cell_type": "code",
   "execution_count": 9,
   "id": "af70e3ab",
   "metadata": {},
   "outputs": [],
   "source": [
    "nestedlist=[[1],[1,2],[2,3,4],[12]]"
   ]
  },
  {
   "cell_type": "code",
   "execution_count": 10,
   "id": "aedbb690",
   "metadata": {},
   "outputs": [
    {
     "data": {
      "text/plain": [
       "[[1], [1, 2], [2, 3, 4], [12]]"
      ]
     },
     "execution_count": 10,
     "metadata": {},
     "output_type": "execute_result"
    }
   ],
   "source": [
    "nestedlist"
   ]
  },
  {
   "cell_type": "code",
   "execution_count": 11,
   "id": "7335c374",
   "metadata": {},
   "outputs": [
    {
     "data": {
      "text/plain": [
       "list"
      ]
     },
     "execution_count": 11,
     "metadata": {},
     "output_type": "execute_result"
    }
   ],
   "source": [
    "type(nestedlist)"
   ]
  },
  {
   "cell_type": "code",
   "execution_count": 25,
   "id": "3c5c2aa6",
   "metadata": {},
   "outputs": [],
   "source": [
    "nl2=[[123,\"dee\",345],[43543,\"dssd\",4636],[234,\"fs\",32525],[3440,\"fdfds\",43430]]"
   ]
  },
  {
   "cell_type": "code",
   "execution_count": 16,
   "id": "47d2f136",
   "metadata": {},
   "outputs": [
    {
     "data": {
      "text/plain": [
       "[123, 'dee', 345]"
      ]
     },
     "execution_count": 16,
     "metadata": {},
     "output_type": "execute_result"
    }
   ],
   "source": [
    "nl2[0]"
   ]
  },
  {
   "cell_type": "code",
   "execution_count": 17,
   "id": "368eca64",
   "metadata": {},
   "outputs": [
    {
     "data": {
      "text/plain": [
       "'dee'"
      ]
     },
     "execution_count": 17,
     "metadata": {},
     "output_type": "execute_result"
    }
   ],
   "source": [
    "nl2[0][1]"
   ]
  },
  {
   "cell_type": "code",
   "execution_count": 18,
   "id": "bf4b9380",
   "metadata": {},
   "outputs": [
    {
     "data": {
      "text/plain": [
       "4636"
      ]
     },
     "execution_count": 18,
     "metadata": {},
     "output_type": "execute_result"
    }
   ],
   "source": [
    "nl2[1][2]"
   ]
  },
  {
   "cell_type": "code",
   "execution_count": 19,
   "id": "7e2daa41",
   "metadata": {},
   "outputs": [
    {
     "data": {
      "text/plain": [
       "'fs'"
      ]
     },
     "execution_count": 19,
     "metadata": {},
     "output_type": "execute_result"
    }
   ],
   "source": [
    "nl2[2][1]"
   ]
  },
  {
   "cell_type": "code",
   "execution_count": 22,
   "id": "8ee100c9",
   "metadata": {},
   "outputs": [],
   "source": [
    "newnl=nl2[3]"
   ]
  },
  {
   "cell_type": "code",
   "execution_count": 21,
   "id": "a4b3ac2c",
   "metadata": {},
   "outputs": [
    {
     "data": {
      "text/plain": [
       "3440"
      ]
     },
     "execution_count": 21,
     "metadata": {},
     "output_type": "execute_result"
    }
   ],
   "source": [
    "nl2[3][0]"
   ]
  },
  {
   "cell_type": "code",
   "execution_count": 23,
   "id": "c2e52c86",
   "metadata": {},
   "outputs": [
    {
     "data": {
      "text/plain": [
       "[3440, 'fdfds', 43430]"
      ]
     },
     "execution_count": 23,
     "metadata": {},
     "output_type": "execute_result"
    }
   ],
   "source": [
    "newnl"
   ]
  },
  {
   "cell_type": "code",
   "execution_count": 24,
   "id": "8e00735d",
   "metadata": {},
   "outputs": [
    {
     "data": {
      "text/plain": [
       "3440"
      ]
     },
     "execution_count": 24,
     "metadata": {},
     "output_type": "execute_result"
    }
   ],
   "source": [
    "newnl[0]"
   ]
  },
  {
   "cell_type": "code",
   "execution_count": 26,
   "id": "ed2b6799",
   "metadata": {},
   "outputs": [
    {
     "data": {
      "text/plain": [
       "[[3440, 'fdfds', 43430]]"
      ]
     },
     "execution_count": 26,
     "metadata": {},
     "output_type": "execute_result"
    }
   ],
   "source": [
    "nl2[3:4]"
   ]
  },
  {
   "cell_type": "code",
   "execution_count": 27,
   "id": "3d152706",
   "metadata": {},
   "outputs": [
    {
     "data": {
      "text/plain": [
       "[[234, 'fs', 32525], [3440, 'fdfds', 43430]]"
      ]
     },
     "execution_count": 27,
     "metadata": {},
     "output_type": "execute_result"
    }
   ],
   "source": [
    "nl2[2:4]"
   ]
  },
  {
   "cell_type": "code",
   "execution_count": 28,
   "id": "ea5777f7",
   "metadata": {},
   "outputs": [
    {
     "data": {
      "text/plain": [
       "[[43543, 'dssd', 4636], [234, 'fs', 32525], [3440, 'fdfds', 43430]]"
      ]
     },
     "execution_count": 28,
     "metadata": {},
     "output_type": "execute_result"
    }
   ],
   "source": [
    "nl2[1:4]"
   ]
  },
  {
   "cell_type": "code",
   "execution_count": 29,
   "id": "ae5b2480",
   "metadata": {},
   "outputs": [],
   "source": [
    "stud=[[\"abc\",123,1],[\"abc\",1213,2],[\"abc\",1223,3],[\"abcq\",1233,4],[\"wabc\",12343,5],[\"abec\",1253,6],[\"abrc\",12113,7],[\"atbc\",1523,8],[\"abtc\",1623,9],[\"aibc\",15623,10]]"
   ]
  },
  {
   "cell_type": "code",
   "execution_count": 30,
   "id": "679ef871",
   "metadata": {},
   "outputs": [
    {
     "data": {
      "text/plain": [
       "10"
      ]
     },
     "execution_count": 30,
     "metadata": {},
     "output_type": "execute_result"
    }
   ],
   "source": [
    "len(stud)"
   ]
  },
  {
   "cell_type": "code",
   "execution_count": 32,
   "id": "98df6563",
   "metadata": {},
   "outputs": [],
   "source": [
    "topper=stud[9:10]"
   ]
  },
  {
   "cell_type": "code",
   "execution_count": 33,
   "id": "f4749bff",
   "metadata": {
    "scrolled": true
   },
   "outputs": [
    {
     "name": "stdout",
     "output_type": "stream",
     "text": [
      "[['aibc', 15623, 10]]\n"
     ]
    }
   ],
   "source": [
    "print(topper)"
   ]
  },
  {
   "cell_type": "code",
   "execution_count": null,
   "id": "632cb235",
   "metadata": {},
   "outputs": [],
   "source": [
    "#approach 1"
   ]
  },
  {
   "cell_type": "code",
   "execution_count": 35,
   "id": "e89754e1",
   "metadata": {},
   "outputs": [
    {
     "data": {
      "text/plain": [
       "15623"
      ]
     },
     "execution_count": 35,
     "metadata": {},
     "output_type": "execute_result"
    }
   ],
   "source": [
    "topper[0][1]"
   ]
  },
  {
   "cell_type": "code",
   "execution_count": null,
   "id": "bff2343a",
   "metadata": {},
   "outputs": [],
   "source": [
    "#approach 2"
   ]
  },
  {
   "cell_type": "code",
   "execution_count": 38,
   "id": "76e0142e",
   "metadata": {},
   "outputs": [],
   "source": [
    "t1=topper[0]"
   ]
  },
  {
   "cell_type": "code",
   "execution_count": 39,
   "id": "62522ec3",
   "metadata": {},
   "outputs": [
    {
     "data": {
      "text/plain": [
       "15623"
      ]
     },
     "execution_count": 39,
     "metadata": {},
     "output_type": "execute_result"
    }
   ],
   "source": [
    "t1[1]"
   ]
  },
  {
   "cell_type": "code",
   "execution_count": null,
   "id": "1a784a3a",
   "metadata": {},
   "outputs": [],
   "source": []
  }
 ],
 "metadata": {
  "kernelspec": {
   "display_name": "Python 3 (ipykernel)",
   "language": "python",
   "name": "python3"
  },
  "language_info": {
   "codemirror_mode": {
    "name": "ipython",
    "version": 3
   },
   "file_extension": ".py",
   "mimetype": "text/x-python",
   "name": "python",
   "nbconvert_exporter": "python",
   "pygments_lexer": "ipython3",
   "version": "3.11.5"
  }
 },
 "nbformat": 4,
 "nbformat_minor": 5
}
